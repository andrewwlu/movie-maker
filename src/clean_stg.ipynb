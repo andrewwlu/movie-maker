{
 "cells": [
  {
   "cell_type": "code",
   "execution_count": 3,
   "metadata": {
    "vscode": {
     "languageId": "r"
    }
   },
   "outputs": [],
   "source": [
    "library(tidyverse)"
   ]
  },
  {
   "cell_type": "code",
   "execution_count": 17,
   "metadata": {
    "vscode": {
     "languageId": "r"
    }
   },
   "outputs": [
    {
     "name": "stderr",
     "output_type": "stream",
     "text": [
      "\u001b[1mRows: \u001b[22m\u001b[34m96\u001b[39m \u001b[1mColumns: \u001b[22m\u001b[34m13\u001b[39m\n",
      "\u001b[36m──\u001b[39m \u001b[1mColumn specification\u001b[22m \u001b[36m────────────────────────────────────────────────────────\u001b[39m\n",
      "\u001b[1mDelimiter:\u001b[22m \",\"\n",
      "\u001b[31mchr\u001b[39m (1): X1\n",
      "\u001b[32mdbl\u001b[39m (8): X2, X3, X4, X5, X6, X8, X11, X12\n",
      "\u001b[33mlgl\u001b[39m (4): X7, X9, X10, X13\n",
      "\n",
      "\u001b[36mℹ\u001b[39m Use `spec()` to retrieve the full column specification for this data.\n",
      "\u001b[36mℹ\u001b[39m Specify the column types or set `show_col_types = FALSE` to quiet this message.\n"
     ]
    }
   ],
   "source": [
    "read_csv(\"/Users/andrewlu/Library/CloudStorage/Dropbox/Documents/Labowitz/Data/Olympus/032825_sensekill_try2_still/input/others/GeneratedStage_fixed_small.csv\", col_names = FALSE) %>% \n",
    "  mutate(\n",
    "    well = as.numeric(str_extract(X1, \"well(\\\\d+)\") %>% str_replace(\"well\", \"\")),\n",
    "    well_position = as.numeric(str_extract(X1, \"pos(\\\\d+)\") %>% str_replace(\"pos\", \"\"))\n",
    "  ) %>% \n",
    "  rename(well_pos_desc = X1, x = X2, y = X3) %>% \n",
    "  mutate(position = row_number()) %>% \n",
    "\n",
    "  select(position, well, well_position, x, y) %>% \n",
    "\n",
    "  write_csv(\"../input/others/clean_GeneratedStage_fixed_small.csv\")"
   ]
  },
  {
   "cell_type": "code",
   "execution_count": null,
   "metadata": {
    "vscode": {
     "languageId": "r"
    }
   },
   "outputs": [],
   "source": []
  }
 ],
 "metadata": {
  "kernelspec": {
   "display_name": "R",
   "language": "R",
   "name": "ir"
  },
  "language_info": {
   "codemirror_mode": "r",
   "file_extension": ".r",
   "mimetype": "text/x-r-source",
   "name": "R",
   "pygments_lexer": "r",
   "version": "4.3.3"
  }
 },
 "nbformat": 4,
 "nbformat_minor": 2
}
